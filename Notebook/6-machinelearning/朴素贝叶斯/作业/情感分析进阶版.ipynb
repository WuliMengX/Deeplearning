{
 "cells": [
  {
   "cell_type": "markdown",
   "id": "c76f9993",
   "metadata": {},
   "source": [
    "### File Reading:文本读取"
   ]
  },
  {
   "cell_type": "code",
   "execution_count": 1,
   "id": "5199012b",
   "metadata": {},
   "outputs": [],
   "source": [
    "# 文本路径\n",
    "train_pos_path = 'data/train.positive.txt'\n",
    "train_neg_path = 'data/train.negative.txt'\n",
    "stop_path = 'data/stopwords.txt'\n",
    "test_comb_path = 'data/test.combined.txt'"
   ]
  },
  {
   "cell_type": "code",
   "execution_count": 2,
   "id": "22f8c673",
   "metadata": {},
   "outputs": [],
   "source": [
    "import re\n",
    "import pandas as pd\n",
    "\n",
    "def process_file(data_path, label=None):\n",
    "    \n",
    "     # 去除换行符替换成空格\n",
    "    with open(data_path,'r') as file:\n",
    "        data_file = file.read().replace('\\n',' ')\n",
    "    \n",
    "    # 正则表达式提取文本 \n",
    "    # 去除字符串两端多余的空格\n",
    "    if label != None:\n",
    "        pattern = re.compile('<review id=\"\\d+\">(.*?)</review>')\n",
    "        data_file = [[label, i.strip()] for i in pattern.findall(data_file)] \n",
    "    else:\n",
    "        pattern = re.compile('<review id=\"\\d+\"  label=\"(\\d)\">(.*?)</review>')\n",
    "        data_file = [[int(i[0]), i[1].strip()] for i in pattern.findall(data_file)]\n",
    "        \n",
    "    df = pd.DataFrame(data_file, columns=['Label', 'Comments'])\n",
    "    \n",
    "    return df\n",
    "\n",
    "df_train = pd.concat([process_file(train_neg_path, 0), process_file(train_pos_path, 1)])        \n",
    "df_test = process_file(test_comb_path)"
   ]
  },
  {
   "cell_type": "code",
   "execution_count": 3,
   "id": "9170060f",
   "metadata": {},
   "outputs": [],
   "source": [
    "# TO DO\n",
    "train_comments = df_train['Comments'].tolist()\n",
    "train_label = df_train['Label'].tolist()\n",
    "test_comments = df_test['Comments'].tolist()\n",
    "test_label = df_test['Label'].tolist()"
   ]
  },
  {
   "cell_type": "markdown",
   "id": "5e83f5c3",
   "metadata": {},
   "source": [
    "### Explorary Analysis:可视化分析"
   ]
  },
  {
   "cell_type": "code",
   "execution_count": 4,
   "id": "4ece46df",
   "metadata": {},
   "outputs": [
    {
     "name": "stdout",
     "output_type": "stream",
     "text": [
      "8063 2500\n"
     ]
    }
   ],
   "source": [
    "print(len(train_comments), len(test_comments))"
   ]
  },
  {
   "cell_type": "code",
   "execution_count": 5,
   "id": "dbf8cf55",
   "metadata": {},
   "outputs": [
    {
     "data": {
      "image/png": "[encoded data removed]",
      "text/plain": [
       "<Figure size 432x288 with 2 Axes>"
      ]
     },
     "metadata": {},
     "output_type": "display_data"
    }
   ],
   "source": [
    "# 关于老师的假想验证\n",
    "\n",
    "from matplotlib import pyplot as plt\n",
    "import numpy as np\n",
    "\n",
    "plt.style.use('fivethirtyeight')\n",
    "\n",
    "filt = (df_train['Label'] == 0)\n",
    "neg_x = df_train.loc[filt,:]['Comments'].map(len)\n",
    "pos_x = df_train.loc[~filt,:]['Comments'].map(len)\n",
    "\n",
    "ax1 = plt.subplot(121)\n",
    "plt.hist(neg_x, edgecolor='black', log=True)\n",
    "plt.title('Negative Comments')\n",
    "plt.xlabel('Length of Comments')\n",
    "plt.ylabel('Counts')\n",
    "\n",
    "ax2 = plt.subplot(122)\n",
    "plt.hist(pos_x, edgecolor='black', log=True)\n",
    "plt.title('Positive Comments')\n",
    "plt.xlabel('Length of Comments')\n",
    "plt.ylabel('Counts')\n",
    "\n",
    "plt.tight_layout()\n",
    "# 通过图像分析，我的答案是评论的长度并不能算得上是可以判断正负面情感的靠谱的特征"
   ]
  },
  {
   "cell_type": "markdown",
   "id": "7a4738b8",
   "metadata": {},
   "source": [
    "### 文本预处理"
   ]
  },
  {
   "cell_type": "code",
   "execution_count": 6,
   "id": "27abc1df",
   "metadata": {},
   "outputs": [
    {
     "name": "stderr",
     "output_type": "stream",
     "text": [
      "Building prefix dict from the default dictionary ...\n",
      "Loading model from cache /tmp/jieba.cache\n",
      "Loading model cost 0.487 seconds.\n",
      "Prefix dict has been built successfully.\n"
     ]
    },
    {
     "name": "stdout",
     "output_type": "stream",
     "text": [
      "看过 此人 百家讲坛 演讲 简直 垃圾 终于 找到 同道中人 初中 已经 喜欢 上 同学 都 鄙夷 眼光 看 人为 样子 古怪 说 丑 当场 气晕 现在 同道中人 好开心\n",
      "中 曲目 包装 上 完全 不 怀疑 盗版 卓越 说法 看 完 已 深夜 两点 却 坐在 电脑前 情难 自禁 这是 最好 结局 惟有 就让 前世 今生 纠结 停留 此刻 再 相逢 时 愿 人生 不再 人 唏嘘 身心 会 只 居 一处 痛心 人 爱\n"
     ]
    }
   ],
   "source": [
    "import jieba\n",
    "\n",
    "with open(stop_path,'r') as file:\n",
    "    stop_file = [i.strip() for i in file.readlines()]\n",
    "    \n",
    "# 去掉特殊符合 停留词\n",
    "def clean_data(text, stop_file):\n",
    "    \n",
    "    text = re.sub('[!！]+', \" \", text)\n",
    "    text = re.sub('[?？]+', \" \", text)\n",
    "    text = re.sub('[~~ ]+', \" \", text)\n",
    "    text = re.sub('[～～ ]+', \" \", text)\n",
    "    text = re.sub(\"[a-zA-Z#$%&\\'()*+,-./:;：<=>@，。★、…【】《》“”‘’[\\\\]^_`{|}~]+\",\" \", text)\n",
    "    text = re.sub('[\\d]+', \" NUM \", text)\n",
    "    text = re.sub(\"\\s+\", \" \", text)\n",
    "    text = text.replace('＂', '').replace('＂','')\n",
    "    token = jieba.lcut(text)\n",
    "    \n",
    "    return ' '.join([i.replace(' ','') for i in token if i not in stop_file and i != ' ' and i != 'NUM'])    \n",
    "\n",
    "train_comments_cleaned = [clean_data(i, stop_file) for i in train_comments]\n",
    "test_comments_cleaned = [clean_data(i, stop_file) for i in test_comments]    \n",
    "\n",
    "print(train_comments_cleaned[0], test_comments_cleaned[0])\n",
    "print(train_comments_cleaned[1], test_comments_cleaned[1])"
   ]
  },
  {
   "cell_type": "markdown",
   "id": "6d74abbf",
   "metadata": {},
   "source": [
    "### 文本转成向量"
   ]
  },
  {
   "cell_type": "code",
   "execution_count": 7,
   "id": "46c5a348",
   "metadata": {},
   "outputs": [
    {
     "name": "stdout",
     "output_type": "stream",
     "text": [
      "(8063, 23096) (2500, 23096) (8063,) (2500,)\n"
     ]
    }
   ],
   "source": [
    "from sklearn.feature_extraction.text import TfidfVectorizer\n",
    "\n",
    "vectorizer = TfidfVectorizer()\n",
    "\n",
    "X_train = vectorizer.fit_transform(train_comments_cleaned)\n",
    "y_train = train_label\n",
    "X_test = vectorizer.transform(test_comments_cleaned)\n",
    "y_test = test_label\n",
    "\n",
    "print(np.shape(X_train), np.shape(X_test), np.shape(y_train), np.shape(y_test))"
   ]
  },
  {
   "cell_type": "markdown",
   "id": "e5e0dde2",
   "metadata": {},
   "source": [
    "### 训练模型"
   ]
  },
  {
   "cell_type": "code",
   "execution_count": 8,
   "id": "72558bf3",
   "metadata": {},
   "outputs": [
    {
     "name": "stdout",
     "output_type": "stream",
     "text": [
      "0.6584\n"
     ]
    }
   ],
   "source": [
    "from sklearn.naive_bayes import MultinomialNB\n",
    "\n",
    "bayes_modle=MultinomialNB()\n",
    "\n",
    "#训练数据\n",
    "bayes_modle.fit(X_train,y_train)\n",
    "\n",
    "#对模型评分\n",
    "model_score=bayes_modle.score(X_test,y_test)\n",
    "print(model_score)"
   ]
  },
  {
   "cell_type": "code",
   "execution_count": null,
   "id": "efba129f",
   "metadata": {},
   "outputs": [],
   "source": []
  }
 ],
 "metadata": {
  "kernelspec": {
   "display_name": "Python 3 (ipykernel)",
   "language": "python",
   "name": "python3"
  },
  "language_info": {
   "codemirror_mode": {
    "name": "ipython",
    "version": 3
   },
   "file_extension": ".py",
   "mimetype": "text/x-python",
   "name": "python",
   "nbconvert_exporter": "python",
   "pygments_lexer": "ipython3",
   "version": "3.9.12"
  },
  "varInspector": {
   "cols": {
    "lenName": 16,
    "lenType": 16,
    "lenVar": 40
   },
   "kernels_config": {
    "python": {
     "delete_cmd_postfix": "",
     "delete_cmd_prefix": "del ",
     "library": "var_list.py",
     "varRefreshCmd": "print(var_dic_list())"
    },
    "r": {
     "delete_cmd_postfix": ") ",
     "delete_cmd_prefix": "rm(",
     "library": "var_list.r",
     "varRefreshCmd": "cat(var_dic_list()) "
    }
   },
   "types_to_exclude": [
    "module",
    "function",
    "builtin_function_or_method",
    "instance",
    "_Feature"
   ],
   "window_display": false
  }
 },
 "nbformat": 4,
 "nbformat_minor": 5
}
