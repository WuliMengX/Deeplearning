{
 "cells": [
  {
   "cell_type": "code",
   "execution_count": 9,
   "metadata": {
    "collapsed": true,
    "pycharm": {
     "name": "#%%\n"
    }
   },
   "outputs": [],
   "source": [
    "import numpy as np\n",
    "import matplotlib as mpl\n",
    "import matplotlib.pyplot as plt\n",
    "import math\n",
    "from mpl_toolkits.mplot3d import Axes3D"
   ]
  },
  {
   "cell_type": "code",
   "execution_count": 8,
   "metadata": {
    "collapsed": true,
    "pycharm": {
     "name": "#%%\n"
    }
   },
   "outputs": [],
   "source": [
    "# 设置在jupyter中matplotlib的显示情况（表示不是嵌入显示）\n",
    "%matplotlib tk"
   ]
  },
  {
   "cell_type": "code",
   "execution_count": 10,
   "metadata": {
    "collapsed": true,
    "pycharm": {
     "name": "#%%\n"
    }
   },
   "outputs": [],
   "source": [
    "# 解决中文显示问题\n",
    "mpl.rcParams['font.sans-serif'] = [u'SimHei']\n",
    "mpl.rcParams['axes.unicode_minus'] = False"
   ]
  },
  {
   "cell_type": "code",
   "execution_count": 16,
   "metadata": {
    "pycharm": {
     "name": "#%%\n"
    }
   },
   "outputs": [
    {
     "name": "stdout",
     "output_type": "stream",
     "text": [
      "最终结果为:(-3.50000, 7.03125)\n",
      "迭代过程中X的取值，迭代次数:1\n",
      "[4, -3.5]\n"
     ]
    }
   ],
   "source": [
    "# 一维原始图像\n",
    "def f1(x):\n",
    "    return 0.5 * (x - 0.25) ** 2\n",
    "# 导函数\n",
    "def h1(x):\n",
    "    return 0.5 * 2 * (x - 0.25)\n",
    "\n",
    "# 使用梯度下降法求解\n",
    "GD_X = []\n",
    "GD_Y = []\n",
    "x = 4  # 初始化的x\n",
    "alpha = 0.1  #步长越小，可能需要的迭代次数就要愈多\n",
    "f_change = f1(x)\n",
    "f_current = f_change\n",
    "GD_X.append(x)\n",
    "GD_Y.append(f_current)\n",
    "iter_num = 0\n",
    "while f_change > 1e-10 and iter_num < 100:  # 停止迭代的条件 差值小于1e-10或者迭代次数大于等于50次\n",
    "    iter_num += 1\n",
    "    x = x - alpha * h1(x)\n",
    "    tmp = f1(x)\n",
    "    f_change = np.abs(f_current - tmp)\n",
    "    f_current  = tmp\n",
    "    GD_X.append(x)\n",
    "    GD_Y.append(f_current)\n",
    "print(u\"最终结果为:(%.5f, %.5f)\" % (x, f_current))\n",
    "print(u\"迭代过程中X的取值，迭代次数:%d\" % iter_num)\n",
    "print(GD_X)\n",
    "\n",
    "\n",
    "# 构建数据\n",
    "X = np.arange(-4, 4.5, 0.05)\n",
    "Y = np.array(list(map(lambda t: f1(t), X)))\n",
    "\n",
    "# 画图\n",
    "plt.figure(facecolor='w')\n",
    "plt.plot(X, Y, 'r-', linewidth=2)\n",
    "plt.plot(GD_X, GD_Y, 'bo--', linewidth=2)\n",
    "plt.title(u'函数$y=0.5 * (θ - 0.25)^2$; \\n学习率:%.3f; 最终解:(%.3f, %.3f);迭代次数:%d' % (alpha, x, f_current, iter_num))\n",
    "plt.show()\n"
   ]
  },
  {
   "cell_type": "code",
   "execution_count": 18,
   "metadata": {
    "pycharm": {
     "name": "#%%\n"
    }
   },
   "outputs": [
    {
     "name": "stdout",
     "output_type": "stream",
     "text": [
      "最终结果为:(0.00001, 0.00001, 0.00000)\n",
      "迭代过程中X的取值，迭代次数:84\n",
      "[4, 3.44, 2.9583999999999997, 2.544224, 2.18803264, 1.8817080703999998, 1.6182689405439998, 1.3917112888678398, 1.1968717084263423, 1.0293096692466543, 0.8852063155521227, 0.7612774313748255, 0.65469859098235, 0.563040788244821, 0.484215077890546, 0.41642496698586956, 0.3581254716078478, 0.30798790558274913, 0.26486959880116423, 0.22778785496900122, 0.19589755527334105, 0.1684718975350733, 0.14488583188016305, 0.12460181541694022, 0.1071575612585686, 0.092155502682369, 0.07925373230683733, 0.0681582097838801, 0.05861606041413688, 0.05040981195615772, 0.04335243828229564, 0.03728309692277425, 0.032063463353585855, 0.027574578484083838, 0.0237141374963121, 0.020394158246828404, 0.017538976092272427, 0.015083519439354287, 0.012971826717844687, 0.01115577097734643, 0.00959396304051793, 0.00825080821484542, 0.007095695064767061, 0.006102297755699672, 0.005247976069901718, 0.0045132594201154775, 0.003881403101299311, 0.0033380066671174075, 0.0028706857337209707, 0.0024687897310000347, 0.00212315916866003, 0.0018259168850476258, 0.0015702885211409583, 0.001350448128181224, 0.0011613853902358528, 0.0009987914356028335, 0.0008589606346184368, 0.0007387061457718556, 0.0006352872853637959, 0.0005463470654128644, 0.0004698584762550634, 0.0004040782895793545, 0.0003475073290382449, 0.0002988563029728906, 0.00025701642055668593, 0.00022103412167874992, 0.00019008934464372494, 0.00016347683639360343, 0.00014059007929849895, 0.0001209074681967091, 0.00010398042264916983, 8.942316347828606e-05, 7.690392059132601e-05, 6.613737170854037e-05, 5.6878139669344714e-05, 4.891520011563645e-05, 4.2067072099447346e-05, 3.6177682005524716e-05, 3.111280652475126e-05, 2.675701361128608e-05, 2.3011031705706027e-05, 1.9789487266907185e-05, 1.701895904954018e-05, 1.4636304782604555e-05, 1.2587222113039917e-05]\n"
     ]
    },
    {
     "name": "stderr",
     "output_type": "stream",
     "text": [
      "C:\\Users\\wulim\\AppData\\Local\\Temp\\ipykernel_9796\\1443077279.py:54: MatplotlibDeprecationWarning: Axes3D(fig) adding itself to the figure is deprecated since 3.4. Pass the keyword argument auto_add_to_figure=False and use fig.add_axes(ax) to suppress this warning. The default value of auto_add_to_figure will change to False in mpl3.5 and True values will no longer work in 3.6.  This is consistent with other Axes classes.\n",
      "  ax = Axes3D(fig)\n"
     ]
    }
   ],
   "source": [
    "# 二维原始图像\n",
    "def f2(x, y):\n",
    "    return 0.6 * (x + y) ** 2 - x * y\n",
    "# 导函数 偏导数\n",
    "def hx2(x, y):\n",
    "    return 0.6 * 2 * (x + y) - y\n",
    "def hy2(x, y):\n",
    "    return 0.6 * 2 * (x + y) - x\n",
    "\n",
    "# 使用梯度下降法求解\n",
    "GD_X1 = []\n",
    "GD_X2 = []\n",
    "GD_Y = []\n",
    "\n",
    "x1 = 4\n",
    "x2 = 4\n",
    "alpha = 0.1\n",
    "f_change = f2(x1, x2)\n",
    "f_current = f_change\n",
    "GD_X1.append(x1)\n",
    "GD_X2.append(x2)\n",
    "GD_Y.append(f_current)\n",
    "\n",
    "iter_num = 0\n",
    "while f_change > 1e-10 and iter_num < 100:\n",
    "    iter_num += 1\n",
    "    prex1 = x1\n",
    "    prex2 = x2\n",
    "    x1 = x1 - alpha * hx2(prex1, prex2)\n",
    "    x2 = x2 - alpha * hy2(prex1, prex2)\n",
    "    \n",
    "    tmp = f2(x1, x2)\n",
    "    f_change = np.abs(f_current - tmp)\n",
    "    \n",
    "    f_current  = tmp\n",
    "    GD_X1.append(x1)\n",
    "    GD_X2.append(x2)\n",
    "    GD_Y.append(f_current)\n",
    "print(u\"最终结果为:(%.5f, %.5f, %.5f)\" % (x1, x2, f_current))\n",
    "print(u\"迭代过程中X的取值，迭代次数:%d\" % iter_num)\n",
    "print(GD_X1)\n",
    "\n",
    "\n",
    "# 构建数据\n",
    "X1 = np.arange(-4, 4.5, 0.2)\n",
    "X2 = np.arange(-4, 4.5, 0.2)\n",
    "X1, X2 = np.meshgrid(X1, X2)\n",
    "Y = np.array(list(map(lambda t: f2(t[0], t[1]), zip(X1.flatten(), X2.flatten()))))\n",
    "Y.shape = X1.shape\n",
    "\n",
    "\n",
    "# 画图 3D图\n",
    "fig = plt.figure(facecolor='w')\n",
    "ax = Axes3D(fig)\n",
    "ax.plot_surface(X1, X2, Y, rstride=1, cstride=1, cmap=plt.cm.jet)\n",
    "ax.plot(GD_X1, GD_X2, GD_Y, 'ro--')\n",
    "\n",
    "ax.set_title(u'函数$y=0.6 * (θ1 + θ2)^2 - θ1 * θ2$;\\n学习率:%.3f; 最终解:(%.3f, %.3f, %.3f);迭代次数:%d' % (alpha, x1, x2, f_current, iter_num))\n",
    "plt.show()\n"
   ]
  },
  {
   "cell_type": "code",
   "execution_count": 19,
   "metadata": {
    "pycharm": {
     "name": "#%%\n"
    }
   },
   "outputs": [
    {
     "name": "stdout",
     "output_type": "stream",
     "text": [
      "最终结果为:(0.98928, 2.74027, 2.46176)\n",
      "迭代过程中X的取值，迭代次数:100\n",
      "[4, 3.944875, 3.8905157312500003, 3.8369112610084377, 3.784050814157783, 3.7319237709242703, 3.680519664630652, 3.629828179481504, 3.579839148380603, 3.530542550779919, 3.481928510559757, 3.433987293939604, 3.386709307419229, 3.3400850957496058, 3.2941053399332185, 3.2487608552533302, 3.2040425893317916, 3.159941620214977, 3.116449154487441, 3.073556525412893, 3.0312551911020953, 2.9895367327072915, 2.948392852642786, 2.90781537283129, 2.8677962329756657, 2.828327488855695, 2.7894013106495184, 2.7510099812793776, 2.713145894781316, 2.675801554698487, 2.6389695724977287, 2.60264266600907, 2.566813657887832, 2.531475474098999, 2.49662114242354, 2.462243790986354, 2.4283366468055387, 2.3948930343626578, 2.361906374193718, 2.329370181500545, 2.297278064782269, 2.265623724486622, 2.2344009516807706, 2.2036036267413888, 2.1732257180636996, 2.1432612807892104, 2.113704455551867, 2.0845494672423652, 2.055790623790352, 2.0274223149642587, 1.9994390111885139, 1.971835262377877, 1.9446056967886531, 1.9177450198865378, 1.8912480132308545, 1.8651095333749452, 1.8393245107824827, 1.8138879487594706, 1.7887949224017063, 1.7640405775574823, 1.739620129805304, 1.7155288634464079, 1.6917621305118657, 1.668315349784062, 1.6451840058323366, 1.6223636480625903, 1.5998498897806466, 1.5776384072691734, 1.5557249388779675, 1.5341052841274083, 1.5127753028248891, 1.4917309141940394, 1.4709680960165517, 1.4504828837864312, 1.430271369876488, 1.410329702716893, 1.3906540859856267, 1.3712407778106432, 1.3520860899835851, 1.3331863871848775, 1.3145380862200393, 1.296137655267048, 1.2779816131345976, 1.2600665285310924, 1.2423890193442215, 1.2249457519309606, 1.2077334404178475, 1.1907488460113882, 1.1739887763184407, 1.157450084676435, 1.141129669493288, 1.125024473596869, 1.1091314835938824, 1.0934477292380258, 1.0779702828072943, 1.062696258490295, 1.0476228117814417, 1.032747138884903, 1.0180664761271754, 1.0035780993781567, 0.9892793234805967]\n"
     ]
    },
    {
     "name": "stderr",
     "output_type": "stream",
     "text": [
      "C:\\Users\\wulim\\AppData\\Local\\Temp\\ipykernel_9796\\2712364664.py:51: MatplotlibDeprecationWarning: Axes3D(fig) adding itself to the figure is deprecated since 3.4. Pass the keyword argument auto_add_to_figure=False and use fig.add_axes(ax) to suppress this warning. The default value of auto_add_to_figure will change to False in mpl3.5 and True values will no longer work in 3.6.  This is consistent with other Axes classes.\n",
      "  ax = Axes3D(fig)\n"
     ]
    }
   ],
   "source": [
    "# 二维原始图像\n",
    "def f2(x, y):\n",
    "    return 0.15 * (x + 0.5) ** 2 + 0.25 * (y  - 0.25) ** 2 + 0.35 * (1.5 * x - 0.2 * y + 0.35 ) ** 2  \n",
    "## 偏函数\n",
    "def hx2(x, y):\n",
    "    return 0.15 * 2 * (x + 0.5) + 0.25 * 2 * (1.5 * x - 0.2 * y + 0.35 ) * 1.5\n",
    "def hy2(x, y):\n",
    "    return 0.25 * 2 * (y  - 0.25) - 0.25 * 2 * (1.5 * x - 0.2 * y + 0.35 ) * 0.2\n",
    "\n",
    "# 使用梯度下降法求解\n",
    "GD_X1 = []\n",
    "GD_X2 = []\n",
    "GD_Y = []\n",
    "x1 = 4\n",
    "x2 = 4\n",
    "alpha = 0.01\n",
    "f_change = f2(x1, x2)\n",
    "f_current = f_change\n",
    "GD_X1.append(x1)\n",
    "GD_X2.append(x2)\n",
    "GD_Y.append(f_current)\n",
    "iter_num = 0\n",
    "while f_change > 1e-10 and iter_num < 100:\n",
    "    iter_num += 1\n",
    "    prex1 = x1\n",
    "    prex2 = x2\n",
    "    x1 = x1 - alpha * hx2(prex1, prex2)\n",
    "    x2 = x2 - alpha * hy2(prex1, prex2)\n",
    "    \n",
    "    tmp = f2(x1, x2)\n",
    "    f_change = np.abs(f_current - tmp)\n",
    "    f_current  = tmp\n",
    "    GD_X1.append(x1)\n",
    "    GD_X2.append(x2)\n",
    "    GD_Y.append(f_current)\n",
    "print(u\"最终结果为:(%.5f, %.5f, %.5f)\" % (x1, x2, f_current))\n",
    "print(u\"迭代过程中X的取值，迭代次数:%d\" % iter_num)\n",
    "print(GD_X1)\n",
    "\n",
    "\n",
    "# 构建数据\n",
    "X1 = np.arange(-4, 4.5, 0.2)\n",
    "X2 = np.arange(-4, 4.5, 0.2)\n",
    "X1, X2 = np.meshgrid(X1, X2)\n",
    "Y = np.array(list(map(lambda t: f2(t[0], t[1]), zip(X1.flatten(), X2.flatten()))))\n",
    "Y.shape = X1.shape\n",
    "\n",
    "\n",
    "# 画图\n",
    "fig = plt.figure(facecolor='w')\n",
    "ax = Axes3D(fig)\n",
    "ax.plot_surface(X1, X2, Y, rstride=1, cstride=1, cmap=plt.cm.jet)\n",
    "ax.plot(GD_X1, GD_X2, GD_Y, 'ko--')\n",
    "ax.set_xlabel('x')\n",
    "ax.set_ylabel('y')\n",
    "ax.set_zlabel('z')\n",
    "\n",
    "ax.set_title(u'函数;\\n学习率:%.3f; 最终解:(%.3f, %.3f, %.3f);迭代次数:%d' % (alpha, x1, x2, f_current, iter_num))\n",
    "plt.show()"
   ]
  },
  {
   "cell_type": "code",
   "execution_count": 13,
   "metadata": {
    "collapsed": true,
    "pycharm": {
     "name": "#%%\n"
    }
   },
   "outputs": [],
   "source": []
  }
 ],
 "metadata": {
  "kernelspec": {
   "display_name": "Python 3 (ipykernel)",
   "language": "python",
   "name": "python3"
  },
  "language_info": {
   "codemirror_mode": {
    "name": "ipython",
    "version": 3
   },
   "file_extension": ".py",
   "mimetype": "text/x-python",
   "name": "python",
   "nbconvert_exporter": "python",
   "pygments_lexer": "ipython3",
   "version": "3.9.12"
  }
 },
 "nbformat": 4,
 "nbformat_minor": 2
}