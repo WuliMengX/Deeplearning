{
 "cells": [
  {
   "cell_type": "markdown",
   "metadata": {},
   "source": [
    "### 线性回归简介 数学符号 假设函数 损失函数 代价函数"
   ]
  },
  {
   "cell_type": "markdown",
   "metadata": {},
   "source": [
    "假设函数: $h_θ(x) = \\sum_{i=0}^nθ_ix_i = θ^TX$\n",
    "\n",
    "损失函数：$L(θ) = (h_θ(x) - y)^2$\n",
    "\n",
    "代价函数：$J(θ) = \\frac{1}{2m}\\sum_{i=1}^m(h_θ(x^{(i)}) - y^{(i)})^2$"
   ]
  },
  {
   "cell_type": "markdown",
   "metadata": {},
   "source": [
    "### 梯度下降法"
   ]
  },
  {
   "cell_type": "markdown",
   "metadata": {},
   "source": [
    "使用梯度下降法求解，使代价函数损失值最小\n",
    "\n",
    "$\\frac{\\partial{}}{\\partial{θ_j}}J(θ) = \\frac{1}{m}\\sum_{i=1}^m(h_θ(x^{(i)}) - y^{(i)})x_j^{(i)}$\n",
    "\n",
    "$θ_j := θ_j - α\\frac{1}{m}\\sum_{i=1}^m(h_θ(x^{(i)}) - y^{(i)})x_j^{(i)}$\n"
   ]
  }
 ],
 "metadata": {
  "kernelspec": {
   "display_name": "Python 3.9.12 ('base')",
   "language": "python",
   "name": "python3"
  },
  "language_info": {
   "name": "python",
   "version": "3.9.12"
  },
  "orig_nbformat": 4,
  "vscode": {
   "interpreter": {
    "hash": "42839ff06bb5dd6e059df24b132277ea5fdc9c394f0b15f11331a37ec25a183f"
   }
  }
 },
 "nbformat": 4,
 "nbformat_minor": 2
}
