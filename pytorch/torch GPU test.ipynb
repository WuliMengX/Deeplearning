{
 "cells": [
  {
   "cell_type": "code",
   "execution_count": null,
   "metadata": {},
   "outputs": [],
   "source": [
    "# First, import PyTorch\n",
    "import torch\n",
    "\n",
    "# Check PyTorch version\n",
    "torch.__version__"
   ]
  },
  {
   "cell_type": "code",
   "execution_count": null,
   "metadata": {},
   "outputs": [],
   "source": [
    "# Instant validation\n",
    "# True - Success!!!\n",
    "# False - Something is wrong!!!\n",
    "torch.cuda.is_available()"
   ]
  },
  {
   "cell_type": "code",
   "execution_count": null,
   "metadata": {},
   "outputs": [],
   "source": [
    "device_cnt = torch.cuda.device_count()\n",
    "cur_device = torch.cuda.current_device()\n",
    "device_name = torch.cuda.get_device_name(cur_device)\n",
    "\n",
    "print(f\"Number of CUDA-enabled GPUs: {device_cnt}\\nCurrent Device ID: {cur_device}\\nCurrent Device Name: {device_name}\")"
   ]
  }
 ],
 "metadata": {
  "interpreter": {
   "hash": "8019fd54df6f37d3561c6db25be2a7adff9c13a14109b8ced322bf19bfcc6fde"
  },
  "kernelspec": {
   "display_name": "pytorch",
   "language": "python",
   "name": "pytorch"
  },
  "language_info": {
   "codemirror_mode": {
    "name": "ipython",
    "version": 3
   },
   "file_extension": ".py",
   "mimetype": "text/x-python",
   "name": "python",
   "nbconvert_exporter": "python",
   "pygments_lexer": "ipython3",
   "version": "3.7.13"
  }
 },
 "nbformat": 4,
 "nbformat_minor": 2
}
