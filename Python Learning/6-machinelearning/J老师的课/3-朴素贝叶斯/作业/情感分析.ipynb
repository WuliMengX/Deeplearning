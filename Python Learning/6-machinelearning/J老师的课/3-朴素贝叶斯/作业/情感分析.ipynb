{
 "cells": [
  {
   "cell_type": "markdown",
   "id": "62d59825",
   "metadata": {},
   "source": [
    "### 文本处理"
   ]
  },
  {
   "cell_type": "code",
   "execution_count": 1,
   "id": "7eabe6d9",
   "metadata": {
    "code_folding": [],
    "run_control": {
     "marked": false
    }
   },
   "outputs": [],
   "source": [
    "# 文本路径\n",
    "train_pos_path = 'data/train.positive.txt'\n",
    "train_neg_path = 'data/train.negative.txt'\n",
    "stop_path = 'data/stopwords.txt'\n",
    "test_comb_path = 'data/test.combined.txt'"
   ]
  },
  {
   "cell_type": "code",
   "execution_count": 2,
   "id": "d537b2fc",
   "metadata": {},
   "outputs": [],
   "source": [
    "import re\n",
    "import jieba\n",
    "import pandas as pd\n",
    "\n",
    "def clean_symbols(text):\n",
    "    text = re.sub('[!！]+', \" \", text)\n",
    "    text = re.sub('[?？]+', \" \", text)\n",
    "    text = re.sub('[~~ ]+', \" \", text)\n",
    "    text = re.sub('[～～ ]+', \" \", text)\n",
    "    text = re.sub(\"[a-zA-Z#$%&\\'()*+,-./:;：<=>@，。★、…【】《》“”‘’[\\\\]^_`{|}~]+\",\" \", text)\n",
    "    text = re.sub('[\\d]+',' NUM ',text)\n",
    "    return re.sub(\"\\s+\", \" \", text)\n",
    "\n",
    "def process_file(data_path, stop_path, label=None):\n",
    "    \n",
    "     # 去除换行符替换成空格\n",
    "    with open(data_path,'r') as file_data, open(stop_path,'r') as file_stop:\n",
    "        data_file = file_data.read().replace('\\n',' ')\n",
    "        stop_file = [i.strip() for i in file_stop.readlines()]\n",
    "    \n",
    "    # 正则表达式提取文本 \n",
    "    # 去除两边多余的空格\n",
    "    if label != None:\n",
    "        pattern = re.compile('<review id=\"\\d+\">(.*?)</review>')\n",
    "        data_file = [[label, clean_symbols(i).strip()] for i in pattern.findall(data_file)] \n",
    "    else:\n",
    "        pattern = re.compile('<review id=\"\\d+\"  label=\"(\\d)\">(.*?)</review>')\n",
    "        data_file = [[int(i[0]), clean_symbols(i[1]).strip()] for i in pattern.findall(data_file)]\n",
    "    \n",
    "    # 去除停止词\n",
    "    for i in data_file:\n",
    "        token = jieba.lcut(i[1])\n",
    "        i[1] = ' '.join([j for j in token if j not in stop_file and j != ' '])\n",
    "        \n",
    "    # 返回DF对象\n",
    "    df = pd.DataFrame(data_file, columns=['Label', 'Comments'])\n",
    "    \n",
    "    return df"
   ]
  },
  {
   "cell_type": "code",
   "execution_count": 3,
   "id": "edf8465a",
   "metadata": {},
   "outputs": [
    {
     "name": "stderr",
     "output_type": "stream",
     "text": [
      "Building prefix dict from the default dictionary ...\n",
      "Loading model from cache /tmp/jieba.cache\n",
      "Loading model cost 0.486 seconds.\n",
      "Prefix dict has been built successfully.\n"
     ]
    }
   ],
   "source": [
    "df_train = pd.concat([process_file(train_pos_path, stop_path, 1), process_file(train_neg_path, stop_path, 0)], ignore_index=True)\n",
    "df_test = process_file(test_comb_path, stop_path)"
   ]
  },
  {
   "cell_type": "code",
   "execution_count": 4,
   "id": "7c564439",
   "metadata": {
    "scrolled": true
   },
   "outputs": [],
   "source": [
    "train_comments = df_train['Comments'].tolist()\n",
    "train_label = df_train['Label'].tolist()\n",
    "test_comments = df_test['Comments'].tolist()\n",
    "test_label = df_test['Label'].tolist()"
   ]
  },
  {
   "cell_type": "markdown",
   "id": "8dc7a501",
   "metadata": {},
   "source": [
    "### 文本向量化"
   ]
  },
  {
   "cell_type": "code",
   "execution_count": 5,
   "id": "cac20353",
   "metadata": {},
   "outputs": [
    {
     "name": "stdout",
     "output_type": "stream",
     "text": [
      "(8063, 23099) (2500, 23099) (8063,) (2500,)\n"
     ]
    }
   ],
   "source": [
    "from sklearn.feature_extraction.text import TfidfVectorizer\n",
    "import numpy as np\n",
    "\n",
    "vectorizer = TfidfVectorizer()\n",
    "\n",
    "X_train = vectorizer.fit_transform(train_comments)\n",
    "y_train = train_label\n",
    "\n",
    "X_test = vectorizer.transform(test_comments)\n",
    "y_test = test_label\n",
    "\n",
    "print(np.shape(X_train), np.shape(X_test), np.shape(y_train), np.shape(y_test))"
   ]
  },
  {
   "cell_type": "markdown",
   "id": "46ab89b7",
   "metadata": {},
   "source": [
    "### 模型训练"
   ]
  },
  {
   "cell_type": "code",
   "execution_count": 6,
   "id": "34cb9176",
   "metadata": {},
   "outputs": [
    {
     "name": "stdout",
     "output_type": "stream",
     "text": [
      "[1 1 0 ... 1 1 1]\n",
      "0.6492\n"
     ]
    }
   ],
   "source": [
    "from sklearn.naive_bayes import MultinomialNB\n",
    "\n",
    "model = MultinomialNB()\n",
    "model.fit(X_train, y_train)\n",
    "\n",
    "print(model.predict(X_test))\n",
    "print(model.score(X_test,y_test))"
   ]
  },
  {
   "cell_type": "markdown",
   "id": "ef71a214",
   "metadata": {},
   "source": [
    "### 可视化分析"
   ]
  },
  {
   "cell_type": "code",
   "execution_count": 7,
   "id": "1c527467",
   "metadata": {},
   "outputs": [
    {
     "name": "stdout",
     "output_type": "stream",
     "text": [
      "训练集样本数：8063 \n",
      "测试集样本数：2500\n"
     ]
    },
    {
     "data": {
      "image/png": "[encoded data removed]",
      "text/plain": [
       "<Figure size 432x288 with 2 Axes>"
      ]
     },
     "metadata": {},
     "output_type": "display_data"
    }
   ],
   "source": [
    "# 关于老师的假想验证\n",
    "\n",
    "from matplotlib import pyplot as plt\n",
    "\n",
    "plt.style.use('fivethirtyeight')\n",
    "\n",
    "filt = (df_train['Label'] == 0)\n",
    "neg_x = df_train.loc[filt,:]['Comments'].map(len)\n",
    "pos_x = df_train.loc[~filt,:]['Comments'].map(len)\n",
    "\n",
    "\n",
    "ax1 = plt.subplot(121)\n",
    "plt.hist(neg_x, edgecolor='black', log=True)\n",
    "plt.title('Negative Comments')\n",
    "plt.xlabel('Length of Comments')\n",
    "plt.ylabel('Counts')\n",
    "\n",
    "ax2 = plt.subplot(122)\n",
    "plt.hist(pos_x, edgecolor='black', log=True)\n",
    "plt.title('Positive Comments')\n",
    "plt.xlabel('Length of Comments')\n",
    "plt.ylabel('Counts')\n",
    "\n",
    "plt.tight_layout()\n",
    "\n",
    "# 根据图像 我的答案是评论的长度不是一个可以判断情感正负的靠谱的特征\n",
    "print(f'训练集样本数：{len(train_comments)} \\n测试集样本数：{len(test_comments)}')"
   ]
  }
 ],
 "metadata": {
  "kernelspec": {
   "display_name": "Python 3 (ipykernel)",
   "language": "python",
   "name": "python3"
  },
  "language_info": {
   "codemirror_mode": {
    "name": "ipython",
    "version": 3
   },
   "file_extension": ".py",
   "mimetype": "text/x-python",
   "name": "python",
   "nbconvert_exporter": "python",
   "pygments_lexer": "ipython3",
   "version": "3.9.12"
  },
  "varInspector": {
   "cols": {
    "lenName": 16,
    "lenType": 16,
    "lenVar": 40
   },
   "kernels_config": {
    "python": {
     "delete_cmd_postfix": "",
     "delete_cmd_prefix": "del ",
     "library": "var_list.py",
     "varRefreshCmd": "print(var_dic_list())"
    },
    "r": {
     "delete_cmd_postfix": ") ",
     "delete_cmd_prefix": "rm(",
     "library": "var_list.r",
     "varRefreshCmd": "cat(var_dic_list()) "
    }
   },
   "types_to_exclude": [
    "module",
    "function",
    "builtin_function_or_method",
    "instance",
    "_Feature"
   ],
   "window_display": false
  },
  "vscode": {
   "interpreter": {
    "hash": "caf1c2fcf97217de91eafa76b907d50f9ea378f5ffbee7f571142d119bb6a771"
   }
  }
 },
 "nbformat": 4,
 "nbformat_minor": 5
}
