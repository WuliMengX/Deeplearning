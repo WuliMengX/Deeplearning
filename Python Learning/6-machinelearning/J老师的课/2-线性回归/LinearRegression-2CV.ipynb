{
 "cells": [
  {
   "cell_type": "code",
   "execution_count": 1,
   "id": "e4d35c3a",
   "metadata": {},
   "outputs": [],
   "source": [
    "import pandas as pd\n",
    "import numpy as np\n",
    "import matplotlib.pyplot as plt\n",
    "%matplotlib inline\n",
    "\n",
    "plt.style.use(\"seaborn\")"
   ]
  },
  {
   "cell_type": "code",
   "execution_count": 2,
   "id": "d3df6e21",
   "metadata": {},
   "outputs": [],
   "source": [
    "csvpath='/home/ubuntu/桌面/Git/Deeplearning/Python课件/5-机器学习/J老师/others/USA_Housing.csv'\n",
    "USAhousing = pd.read_csv(csvpath)"
   ]
  },
  {
   "cell_type": "code",
   "execution_count": 3,
   "id": "b23fde1a",
   "metadata": {},
   "outputs": [],
   "source": [
    "def address2district(address):\n",
    "    temp = address.split('\\n')[1] #地址是以\\n来进行分割的，所以[1]部分是我们所需要的\n",
    "    if ',' in temp: #其中一部分的地址是以‘,’来进行分割的\n",
    "        district = temp.split(',')[1].split()[0]\n",
    "    else:\n",
    "        district=temp.split(' ')[1]\n",
    "    return district\n",
    "\n",
    "USAhousing.loc[:,'district'] = USAhousing['Address'].apply(address2district)"
   ]
  },
  {
   "cell_type": "markdown",
   "id": "bc30f1c5",
   "metadata": {},
   "source": [
    "### 建立模型"
   ]
  },
  {
   "cell_type": "code",
   "execution_count": 4,
   "id": "71123c2f",
   "metadata": {},
   "outputs": [],
   "source": [
    "# 特征编码\n",
    "from sklearn.preprocessing import LabelEncoder\n",
    "\n",
    "le = LabelEncoder()\n",
    "\n",
    "le.fit(USAhousing['district'].values)\n",
    "USAhousing['district_code'] = le.transform(USAhousing['district'].values)\n",
    "\n",
    "# 特征筛选\n",
    "X = USAhousing[['Avg. Area Income', 'Avg. Area House Age', 'Avg. Area Number of Rooms',\n",
    "               'Avg. Area Number of Bedrooms', 'Area Population', 'district_code']]\n",
    "\n",
    "y = USAhousing['Price']"
   ]
  },
  {
   "cell_type": "code",
   "execution_count": 5,
   "id": "642fe98c",
   "metadata": {},
   "outputs": [],
   "source": [
    "# 分配训练集和测试集\n",
    "from sklearn.model_selection import train_test_split\n",
    "\n",
    "X_train, X_test, y_train, y_test = train_test_split(X, y, test_size=0.2, random_state=3)"
   ]
  },
  {
   "cell_type": "code",
   "execution_count": 6,
   "id": "1dee3e02",
   "metadata": {},
   "outputs": [],
   "source": [
    "# 特征缩放：数据集归一化\n",
    "from sklearn.preprocessing import StandardScaler # 数据预处理类 \n",
    "\n",
    "# 归一化方法：标准差标准化(zero-mean) 转化函数：x = (x-mean) / std \n",
    "# 经过处理后得到的数据集符合标准正态分布，即均值为0，标准差为1\n",
    "# 适用于本身服从正态分布的数据\n",
    "\n",
    "scaler = StandardScaler() \n",
    "\n",
    "# 下面两行代码是固定用法，不能颠倒顺序\n",
    "X_train = scaler.fit_transform(X_train) # 求得 训练集 的平均值和方差并应用在 训练集 上，同时也会保存\n",
    "X_test = scaler.transform(X_test)       # 用保存的 训练集 的平均值和方差来应用在 测试集 上\n",
    "\n",
    "# 数据预处理中的方法：\n",
    "\n",
    "# - fit(): \n",
    "# 解释：简单来说，就是求得训练集X的均值啊，方差啊，最大值啊，最小值，这些训练集X固有的属性。可以理解为一个训练过程\n",
    "\n",
    "# - transform(): \n",
    "# 解释：在Fit的基础上，进行标准化，降维，归一化等操作（看具体用的是哪个工具，如PCA，StandardScaler等）\n",
    "\n",
    "# - fit_transform(): \n",
    "# 解释：fit_transform是fit和transform的组合，既包括了训练又包含了转换"
   ]
  },
  {
   "cell_type": "code",
   "execution_count": 7,
   "id": "743e5d88",
   "metadata": {},
   "outputs": [
    {
     "name": "stdout",
     "output_type": "stream",
     "text": [
      "1.0\n",
      "(0.001, 0.8)\n"
     ]
    }
   ],
   "source": [
    "# 模型训练\n",
    "from sklearn.linear_model import LassoCV,ElasticNetCV\n",
    "\n",
    "lscv = LassoCV(alphas=[1.0, 0.1, 0.01, 0.005, 0.0025, 0.001, 0.00025])\n",
    "\n",
    "lscv.fit(X_train, y_train) \n",
    "\n",
    "print(lscv.alpha_)\n",
    "\n",
    "encv = ElasticNetCV(alphas=[0.1, 0.01, 0.005, 0.0025, 0.001],l1_ratio=[0.1, 0.25, 0.5, 0.75, 0.8])\n",
    "\n",
    "encv.fit(X_train, y_train) \n",
    "\n",
    "print((encv.alpha_, encv.l1_ratio_))"
   ]
  },
  {
   "cell_type": "markdown",
   "id": "88734d4a",
   "metadata": {},
   "source": [
    "### 模型评估"
   ]
  },
  {
   "cell_type": "code",
   "execution_count": 8,
   "id": "038e3424",
   "metadata": {},
   "outputs": [
    {
     "name": "stdout",
     "output_type": "stream",
     "text": [
      "Lasso测试集计算结果：\n",
      "_________________________\n",
      "MSE:  10776609405.682356\n",
      "RMSE: 103810.44940506884\n",
      "MAE:  83684.59354924301\n",
      "R2:   0.9151206757696965\n",
      "_________________________\n",
      "\n",
      "ElasticNet测试集计算结果：\n",
      "_________________________\n",
      "MSE:  10777410385.78996\n",
      "RMSE: 103814.30723069899\n",
      "MAE:  83688.86956334059\n",
      "R2:   0.9151143670460807\n",
      "_________________________\n",
      "\n"
     ]
    }
   ],
   "source": [
    "from sklearn import metrics\n",
    "\n",
    "# 模型评估函数\n",
    "def print_evaluate(y_test, y_predict):\n",
    "    mse = metrics.mean_squared_error(y_test, y_predict)  #MSE\n",
    "    mae = metrics.mean_absolute_error(y_test, y_predict) #MAE\n",
    "    rmse = np.sqrt(mse) #RMSE\n",
    "    r2 = metrics.r2_score(y_test, y_predict) #R2 Square\n",
    "    print(f'MSE:  {mse}\\nRMSE: {rmse}\\nMAE:  {mae}\\nR2:   {r2}\\n_________________________\\n')\n",
    "    \n",
    "# 模型预测 输出评估结果\n",
    "test_pred1 = lscv.predict(X_test)\n",
    "test_pred2 = encv.predict(X_test)\n",
    "print(\"Lasso测试集计算结果：\\n_________________________\")\n",
    "print_evaluate(y_test, test_pred1)\n",
    "print(\"ElasticNet测试集计算结果：\\n_________________________\")\n",
    "print_evaluate(y_test, test_pred2)"
   ]
  }
 ],
 "metadata": {
  "kernelspec": {
   "display_name": "Python 3 (ipykernel)",
   "language": "python",
   "name": "python3"
  },
  "language_info": {
   "codemirror_mode": {
    "name": "ipython",
    "version": 3
   },
   "file_extension": ".py",
   "mimetype": "text/x-python",
   "name": "python",
   "nbconvert_exporter": "python",
   "pygments_lexer": "ipython3",
   "version": "3.9.12"
  },
  "varInspector": {
   "cols": {
    "lenName": 16,
    "lenType": 16,
    "lenVar": 40
   },
   "kernels_config": {
    "python": {
     "delete_cmd_postfix": "",
     "delete_cmd_prefix": "del ",
     "library": "var_list.py",
     "varRefreshCmd": "print(var_dic_list())"
    },
    "r": {
     "delete_cmd_postfix": ") ",
     "delete_cmd_prefix": "rm(",
     "library": "var_list.r",
     "varRefreshCmd": "cat(var_dic_list()) "
    }
   },
   "types_to_exclude": [
    "module",
    "function",
    "builtin_function_or_method",
    "instance",
    "_Feature"
   ],
   "window_display": false
  },
  "vscode": {
   "interpreter": {
    "hash": "caf1c2fcf97217de91eafa76b907d50f9ea378f5ffbee7f571142d119bb6a771"
   }
  }
 },
 "nbformat": 4,
 "nbformat_minor": 5
}
