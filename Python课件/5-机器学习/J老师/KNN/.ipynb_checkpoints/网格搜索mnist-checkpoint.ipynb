{
 "cells": [
  {
   "cell_type": "code",
   "execution_count": null,
   "metadata": {},
   "outputs": [],
   "source": [
    "import torch\n",
    "from torch.utils.data import DataLoader\n",
    "import torchvision.datasets as dsets\n",
    "import torchvision.transforms as transforms\n",
    "#torchvision.transforms中定义了一系列数据转换形式，有PILImage,numpy,Tensor间相互转换，还能对数据进行处理。\n",
    "# MNIST dataset\n",
    "train_dataset = dsets.MNIST(root = '/ml/pymnist', #选择数据的根目录\n",
    "                           train = True, # 选择训练集\n",
    "                           transform = transforms.ToTensor(), #不考虑使用任何数据预处理\n",
    "                           download = True) # 从网络上download图片\n",
    "test_dataset = dsets.MNIST(root = '/ml/pymnist', #选择数据的根目录\n",
    "                           train = False, # 选择测试集\n",
    "                           transform = transforms.ToTensor(), #不考虑使用任何数据预处理\n",
    "                           download = True) # 从网络上download图片"
   ]
  },
  {
   "cell_type": "code",
   "execution_count": null,
   "metadata": {},
   "outputs": [],
   "source": [
    "X_train = train_dataset.data.numpy()\n",
    "X_train = X_train.reshape(-1,28*28)\n",
    "y_train = train_dataset.targets.numpy()\n",
    "X_test = test_dataset.data.numpy()\n",
    "X_test = X_test.reshape(-1,28*28)\n",
    "y_test = test_dataset.targets.numpy()"
   ]
  },
  {
   "cell_type": "code",
   "execution_count": null,
   "metadata": {},
   "outputs": [],
   "source": [
    "from sklearn.neighbors import KNeighborsClassifier\n",
    "from sklearn.model_selection import GridSearchCV\n",
    "neigh = KNeighborsClassifier()\n",
    "# 1）定义搜索的参数范围\n",
    "param_grid = [\n",
    "    {\n",
    "        'weights':['uniform','distance'],\n",
    "        'n_neighbors':[i for i in range(3, 20,2)],\n",
    "        'p':[1,2]\n",
    "        \n",
    "    }\n",
    "]\n",
    "\n",
    "#这里的grid search针对每个参数进行了10次交叉验证\n",
    "grid = GridSearchCV(neigh, param_grid, cv=10, scoring='accuracy')\n",
    "\n",
    "grid.fit(X_train, y_train)\n",
    "#查看 搜索结果和最佳成绩\n",
    "print(grid.best_estimator_)\n",
    "print(grid.best_score_)\n",
    "print(grid.best_params_)\n",
    "neigh = grid.best_estimator_\n",
    "#print(neigh.score(X_test,y_test))"
   ]
  },
  {
   "cell_type": "code",
   "execution_count": null,
   "metadata": {},
   "outputs": [],
   "source": [
    "x = [i for i in range(3,20,2)]\n",
    "x"
   ]
  }
 ],
 "metadata": {
  "kernelspec": {
   "display_name": "Python 3 (ipykernel)",
   "language": "python",
   "name": "python3"
  },
  "language_info": {
   "codemirror_mode": {
    "name": "ipython",
    "version": 3
   },
   "file_extension": ".py",
   "mimetype": "text/x-python",
   "name": "python",
   "nbconvert_exporter": "python",
   "pygments_lexer": "ipython3",
   "version": "3.9.12"
  }
 },
 "nbformat": 4,
 "nbformat_minor": 4
}
