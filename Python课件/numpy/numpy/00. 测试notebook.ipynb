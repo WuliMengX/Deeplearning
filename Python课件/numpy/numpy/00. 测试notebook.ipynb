{
 "cells": [
  {
   "cell_type": "code",
   "execution_count": 1,
   "id": "7f82e3d6-bdb2-4b0b-8ff8-b852b7ec130c",
   "metadata": {},
   "outputs": [
    {
     "name": "stdout",
     "output_type": "stream",
     "text": [
      "hello notebook\n"
     ]
    }
   ],
   "source": [
    "print('hello notebook')"
   ]
  },
  {
   "cell_type": "code",
   "execution_count": 2,
   "id": "04e9c7cc-8067-4f89-8c70-032c54eeb445",
   "metadata": {},
   "outputs": [
    {
     "data": {
      "text/plain": [
       "2"
      ]
     },
     "execution_count": 2,
     "metadata": {},
     "output_type": "execute_result"
    }
   ],
   "source": [
    "1+1"
   ]
  },
  {
   "cell_type": "markdown",
   "id": "1dfed121-2068-4bab-88ff-e23859907a7d",
   "metadata": {},
   "source": [
    "#### 引入包"
   ]
  },
  {
   "cell_type": "code",
   "execution_count": 3,
   "id": "c29f78ed-924f-4e91-96ab-df41c6d9157f",
   "metadata": {},
   "outputs": [],
   "source": [
    "import numpy as np\n",
    "import pandas as pd"
   ]
  }
 ],
 "metadata": {
  "kernelspec": {
   "display_name": "Python 3.9.12 ('base')",
   "language": "python",
   "name": "python3"
  },
  "language_info": {
   "codemirror_mode": {
    "name": "ipython",
    "version": 3
   },
   "file_extension": ".py",
   "mimetype": "text/x-python",
   "name": "python",
   "nbconvert_exporter": "python",
   "pygments_lexer": "ipython3",
   "version": "3.9.12"
  },
  "vscode": {
   "interpreter": {
    "hash": "42839ff06bb5dd6e059df24b132277ea5fdc9c394f0b15f11331a37ec25a183f"
   }
  }
 },
 "nbformat": 4,
 "nbformat_minor": 5
}
