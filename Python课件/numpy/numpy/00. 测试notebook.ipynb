{
 "cells": [
  {
   "cell_type": "code",
   "execution_count": 1,
   "id": "7f82e3d6-bdb2-4b0b-8ff8-b852b7ec130c",
   "metadata": {},
   "outputs": [
    {
     "name": "stdout",
     "output_type": "stream",
     "text": [
      "hello notebook\n"
     ]
    }
   ],
   "source": [
    "print('hello notebook')"
   ]
  },
  {
   "cell_type": "code",
   "execution_count": 2,
   "id": "04e9c7cc-8067-4f89-8c70-032c54eeb445",
   "metadata": {},
   "outputs": [
    {
     "data": {
      "text/plain": [
       "2"
      ]
     },
     "execution_count": 2,
     "metadata": {},
     "output_type": "execute_result"
    }
   ],
   "source": [
    "1+1"
   ]
  },
  {
   "cell_type": "markdown",
   "id": "1dfed121-2068-4bab-88ff-e23859907a7d",
   "metadata": {},
   "source": [
    "#### 引入包"
   ]
  },
  {
   "cell_type": "code",
   "execution_count": 3,
   "id": "c29f78ed-924f-4e91-96ab-df41c6d9157f",
   "metadata": {},
   "outputs": [],
   "source": [
    "import numpy as np\n",
    "import pandas as pd"
   ]
  }
 ],
 "metadata": {
  "kernelspec": {
   "display_name": "Python 3 (ipykernel)",
   "language": "python",
   "name": "python3"
  },
  "language_info": {
   "codemirror_mode": {
    "name": "ipython",
    "version": 3
   },
   "file_extension": ".py",
   "mimetype": "text/x-python",
   "name": "python",
   "nbconvert_exporter": "python",
   "pygments_lexer": "ipython3",
   "version": "3.7.13"
  }
 },
 "nbformat": 4,
 "nbformat_minor": 5
}
