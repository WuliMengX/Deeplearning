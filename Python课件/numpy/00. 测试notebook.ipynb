{
 "cells": [
  {
   "cell_type": "code",
   "execution_count": null,
   "id": "5a09c053",
   "metadata": {},
   "outputs": [],
   "source": [
    "import tensorflow as tf"
   ]
  },
  {
   "cell_type": "code",
   "execution_count": null,
   "id": "e21e0c44",
   "metadata": {},
   "outputs": [],
   "source": [
    "print(tf.test.is_built_with_cuda(),tf.test.is_gpu_available(),tf.test.is_built_with_gpu_support())"
   ]
  },
  {
   "cell_type": "code",
   "execution_count": null,
   "id": "890a9591",
   "metadata": {},
   "outputs": [],
   "source": [
    "import torch"
   ]
  },
  {
   "cell_type": "code",
   "execution_count": null,
   "id": "6be59798",
   "metadata": {},
   "outputs": [],
   "source": [
    "print(torch.cuda.is_available(),torch.backends.cudnn.is_available(),torch.backends.cudnn.version())"
   ]
  }
 ],
 "metadata": {
  "kernelspec": {
   "display_name": "Pytorch",
   "language": "python",
   "name": "pytorch"
  },
  "language_info": {
   "codemirror_mode": {
    "name": "ipython",
    "version": 3
   },
   "file_extension": ".py",
   "mimetype": "text/x-python",
   "name": "python",
   "nbconvert_exporter": "python",
   "pygments_lexer": "ipython3",
   "version": "3.8.13"
  },
  "vscode": {
   "interpreter": {
    "hash": "42839ff06bb5dd6e059df24b132277ea5fdc9c394f0b15f11331a37ec25a183f"
   }
  }
 },
 "nbformat": 4,
 "nbformat_minor": 5
}
